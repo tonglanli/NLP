{
 "cells": [
  {
   "cell_type": "code",
   "execution_count": 35,
   "metadata": {
    "collapsed": true
   },
   "outputs": [],
   "source": [
    "# 加载打印函数\n",
    "from __future__ import print_function"
   ]
  },
  {
   "cell_type": "code",
   "execution_count": 36,
   "metadata": {
    "collapsed": true
   },
   "outputs": [],
   "source": [
    "# 加载蝴蝶花数据库\n",
    "from sklearn.datasets import load_iris\n",
    "iris = load_iris()"
   ]
  },
  {
   "cell_type": "code",
   "execution_count": 37,
   "metadata": {
    "collapsed": true
   },
   "outputs": [],
   "source": [
    "# 设置变量保存蝴蝶花的特征矩阵X，类型列表y\n",
    "X = iris.data\n",
    "y = iris.target"
   ]
  },
  {
   "cell_type": "code",
   "execution_count": 38,
   "metadata": {
    "collapsed": false
   },
   "outputs": [
    {
     "name": "stdout",
     "output_type": "stream",
     "text": [
      "(150L, 4L)\n",
      "(150L,)\n"
     ]
    }
   ],
   "source": [
    "# 查看特征矩阵X和类型列表y的大小\n",
    "print(X.shape)\n",
    "print(y.shape)"
   ]
  },
  {
   "cell_type": "code",
   "execution_count": 39,
   "metadata": {
    "collapsed": false,
    "scrolled": true
   },
   "outputs": [
    {
     "data": {
      "text/html": [
       "<div>\n",
       "<table border=\"1\" class=\"dataframe\">\n",
       "  <thead>\n",
       "    <tr style=\"text-align: right;\">\n",
       "      <th></th>\n",
       "      <th>sepal length (cm)</th>\n",
       "      <th>sepal width (cm)</th>\n",
       "      <th>petal length (cm)</th>\n",
       "      <th>petal width (cm)</th>\n",
       "    </tr>\n",
       "  </thead>\n",
       "  <tbody>\n",
       "    <tr>\n",
       "      <th>0</th>\n",
       "      <td>5.1</td>\n",
       "      <td>3.5</td>\n",
       "      <td>1.4</td>\n",
       "      <td>0.2</td>\n",
       "    </tr>\n",
       "    <tr>\n",
       "      <th>1</th>\n",
       "      <td>4.9</td>\n",
       "      <td>3.0</td>\n",
       "      <td>1.4</td>\n",
       "      <td>0.2</td>\n",
       "    </tr>\n",
       "    <tr>\n",
       "      <th>2</th>\n",
       "      <td>4.7</td>\n",
       "      <td>3.2</td>\n",
       "      <td>1.3</td>\n",
       "      <td>0.2</td>\n",
       "    </tr>\n",
       "    <tr>\n",
       "      <th>3</th>\n",
       "      <td>4.6</td>\n",
       "      <td>3.1</td>\n",
       "      <td>1.5</td>\n",
       "      <td>0.2</td>\n",
       "    </tr>\n",
       "    <tr>\n",
       "      <th>4</th>\n",
       "      <td>5.0</td>\n",
       "      <td>3.6</td>\n",
       "      <td>1.4</td>\n",
       "      <td>0.2</td>\n",
       "    </tr>\n",
       "  </tbody>\n",
       "</table>\n",
       "</div>"
      ],
      "text/plain": [
       "   sepal length (cm)  sepal width (cm)  petal length (cm)  petal width (cm)\n",
       "0                5.1               3.5                1.4               0.2\n",
       "1                4.9               3.0                1.4               0.2\n",
       "2                4.7               3.2                1.3               0.2\n",
       "3                4.6               3.1                1.5               0.2\n",
       "4                5.0               3.6                1.4               0.2"
      ]
     },
     "execution_count": 39,
     "metadata": {},
     "output_type": "execute_result"
    }
   ],
   "source": [
    "# 加载数据结构pandas\n",
    "import pandas as pd\n",
    "# 检查前5行特征矩阵 (包含特征名)\n",
    "pd.DataFrame(X, columns=iris.feature_names).head()\n",
    "# sepal：花萼，petal：花瓣"
   ]
  },
  {
   "cell_type": "code",
   "execution_count": 40,
   "metadata": {
    "collapsed": false
   },
   "outputs": [
    {
     "name": "stdout",
     "output_type": "stream",
     "text": [
      "['setosa' 'versicolor' 'virginica']\n"
     ]
    }
   ],
   "source": [
    "# 检查类型\n",
    "print(iris.target_names)\n",
    "# 圣淘沙 花斑癣 维尔吉妮卡"
   ]
  },
  {
   "cell_type": "code",
   "execution_count": 41,
   "metadata": {
    "collapsed": false,
    "scrolled": true
   },
   "outputs": [
    {
     "name": "stdout",
     "output_type": "stream",
     "text": [
      "[0 0 0 0 0 0 0 0 0 0 0 0 0 0 0 0 0 0 0 0 0 0 0 0 0 0 0 0 0 0 0 0 0 0 0 0 0\n",
      " 0 0 0 0 0 0 0 0 0 0 0 0 0 1 1 1 1 1 1 1 1 1 1 1 1 1 1 1 1 1 1 1 1 1 1 1 1\n",
      " 1 1 1 1 1 1 1 1 1 1 1 1 1 1 1 1 1 1 1 1 1 1 1 1 1 1 2 2 2 2 2 2 2 2 2 2 2\n",
      " 2 2 2 2 2 2 2 2 2 2 2 2 2 2 2 2 2 2 2 2 2 2 2 2 2 2 2 2 2 2 2 2 2 2 2 2 2\n",
      " 2 2]\n"
     ]
    }
   ],
   "source": [
    "# 检查类型\n",
    "print(y)"
   ]
  },
  {
   "cell_type": "code",
   "execution_count": 42,
   "metadata": {
    "collapsed": false
   },
   "outputs": [
    {
     "data": {
      "text/plain": [
       "KNeighborsClassifier(algorithm='auto', leaf_size=30, metric='minkowski',\n",
       "           metric_params=None, n_jobs=1, n_neighbors=5, p=2,\n",
       "           weights='uniform')"
      ]
     },
     "execution_count": 42,
     "metadata": {},
     "output_type": "execute_result"
    }
   ],
   "source": [
    "# 加载k最近邻算法\n",
    "from sklearn.neighbors import KNeighborsClassifier\n",
    "\n",
    "# 初始化k最近邻算法模型(使用默认参数)\n",
    "knn = KNeighborsClassifier()\n",
    "\n",
    "# 使用数据训练模型\n",
    "knn.fit(X, y)"
   ]
  },
  {
   "cell_type": "code",
   "execution_count": 43,
   "metadata": {
    "collapsed": false
   },
   "outputs": [
    {
     "data": {
      "text/plain": [
       "array([1, 2])"
      ]
     },
     "execution_count": 43,
     "metadata": {},
     "output_type": "execute_result"
    }
   ],
   "source": [
    "# 预测训练样本外的新的蝴蝶花的类型\n",
    "knn.predict([[3, 5, 4, 2],[8,6,4,4]])"
   ]
  },
  {
   "cell_type": "code",
   "execution_count": 44,
   "metadata": {
    "collapsed": false
   },
   "outputs": [],
   "source": [
    "# 将迪斯尼点评数据加载到pandas数据结构中\n",
    "path = 'data/disney_modified.csv'\n",
    "sms = pd.read_csv(path)"
   ]
  },
  {
   "cell_type": "code",
   "execution_count": 45,
   "metadata": {
    "collapsed": false
   },
   "outputs": [
    {
     "data": {
      "text/plain": [
       "(5545, 5)"
      ]
     },
     "execution_count": 45,
     "metadata": {},
     "output_type": "execute_result"
    }
   ],
   "source": [
    "# 检查数据对象的大小\n",
    "sms.shape"
   ]
  },
  {
   "cell_type": "code",
   "execution_count": 46,
   "metadata": {
    "collapsed": false,
    "scrolled": true
   },
   "outputs": [
    {
     "data": {
      "text/html": [
       "<div>\n",
       "<table border=\"1\" class=\"dataframe\">\n",
       "  <thead>\n",
       "    <tr style=\"text-align: right;\">\n",
       "      <th></th>\n",
       "      <th>﻿uid</th>\n",
       "      <th>orderid</th>\n",
       "      <th>visitortype</th>\n",
       "      <th>commenttitle</th>\n",
       "      <th>commentcontent</th>\n",
       "    </tr>\n",
       "  </thead>\n",
       "  <tbody>\n",
       "    <tr>\n",
       "      <th>0</th>\n",
       "      <td>02191093</td>\n",
       "      <td>2178959382</td>\n",
       "      <td>1</td>\n",
       "      <td>意犹未尽</td>\n",
       "      <td>一天到晚玩不完，人太多，选择性玩几个项目，如果还有机会再去一次，把没有玩过的继续玩。最好有两...</td>\n",
       "    </tr>\n",
       "    <tr>\n",
       "      <th>1</th>\n",
       "      <td>05311667</td>\n",
       "      <td>2176235712</td>\n",
       "      <td>2</td>\n",
       "      <td>不错的体验</td>\n",
       "      <td>人好多，到处都要排队，还好有快速通行证，省不少时间，入园很方便，刷身份证取票，挺方便的。</td>\n",
       "    </tr>\n",
       "    <tr>\n",
       "      <th>2</th>\n",
       "      <td>08837590</td>\n",
       "      <td>2182049047</td>\n",
       "      <td>1</td>\n",
       "      <td>非常棒</td>\n",
       "      <td>园区非常大，精致，一定要善用FP，一进园区，就要去扫码哦。天气实在热，园区工作人员非常热情</td>\n",
       "    </tr>\n",
       "    <tr>\n",
       "      <th>3</th>\n",
       "      <td>08837590</td>\n",
       "      <td>2182050122</td>\n",
       "      <td>8</td>\n",
       "      <td>非常棒</td>\n",
       "      <td>天非常热，重点是使用FP，一定要一进园区，先派人去扫码。园区内工作人员非常热情，可惜垃圾满地...</td>\n",
       "    </tr>\n",
       "    <tr>\n",
       "      <th>4</th>\n",
       "      <td>1001383871</td>\n",
       "      <td>2172926019</td>\n",
       "      <td>2</td>\n",
       "      <td>圆公主梦</td>\n",
       "      <td>虽然去过日本的迪斯尼，但上海迪斯尼还是没令我失望，女儿玩得很开心，人也没想象的多，就是票价有点小贵</td>\n",
       "    </tr>\n",
       "    <tr>\n",
       "      <th>5</th>\n",
       "      <td>1003238255</td>\n",
       "      <td>2190831207</td>\n",
       "      <td>2</td>\n",
       "      <td>童心未老</td>\n",
       "      <td>新景象，气派，适合十岁左右儿童游玩！娱乐项目很多，小孩子们玩得开心，现在八月份太热了。上海游...</td>\n",
       "    </tr>\n",
       "    <tr>\n",
       "      <th>6</th>\n",
       "      <td>1005287188</td>\n",
       "      <td>2177722847</td>\n",
       "      <td>2</td>\n",
       "      <td>上海迪士尼乐园</td>\n",
       "      <td>好玩，大人小孩都喜欢，就是人太多，排队队伍好长，等待的时间占了太多的时间，估计是刚开放的原因.。</td>\n",
       "    </tr>\n",
       "    <tr>\n",
       "      <th>7</th>\n",
       "      <td>1006276888</td>\n",
       "      <td>2178800907</td>\n",
       "      <td>1</td>\n",
       "      <td>人太多了，没玩到几个项目</td>\n",
       "      <td>天气热，人又多。项目排队时间太长，关键是去玩了项目出来，放在统一停放点的租的童车都被偷了，不...</td>\n",
       "    </tr>\n",
       "    <tr>\n",
       "      <th>8</th>\n",
       "      <td>1006276888</td>\n",
       "      <td>2178801182</td>\n",
       "      <td>2</td>\n",
       "      <td>累，人太多，管理需加强</td>\n",
       "      <td>人实在是太多了，排队久不说，花钱租的童车还被偷，不得不说管理还跟不上，放童车的地方没人看管，...</td>\n",
       "    </tr>\n",
       "    <tr>\n",
       "      <th>9</th>\n",
       "      <td>1008272730</td>\n",
       "      <td>2187548102</td>\n",
       "      <td>2</td>\n",
       "      <td>人超多超级多</td>\n",
       "      <td>人太多了，到处排队，一天只玩了两个项目，人超多，又热，平均一个项目排队3个半小时！不会再去了！</td>\n",
       "    </tr>\n",
       "  </tbody>\n",
       "</table>\n",
       "</div>"
      ],
      "text/plain": [
       "         ﻿uid     orderid  visitortype  commenttitle  \\\n",
       "0    02191093  2178959382            1          意犹未尽   \n",
       "1    05311667  2176235712            2         不错的体验   \n",
       "2    08837590  2182049047            1           非常棒   \n",
       "3    08837590  2182050122            8           非常棒   \n",
       "4  1001383871  2172926019            2          圆公主梦   \n",
       "5  1003238255  2190831207            2          童心未老   \n",
       "6  1005287188  2177722847            2       上海迪士尼乐园   \n",
       "7  1006276888  2178800907            1  人太多了，没玩到几个项目   \n",
       "8  1006276888  2178801182            2   累，人太多，管理需加强   \n",
       "9  1008272730  2187548102            2        人超多超级多   \n",
       "\n",
       "                                      commentcontent  \n",
       "0  一天到晚玩不完，人太多，选择性玩几个项目，如果还有机会再去一次，把没有玩过的继续玩。最好有两...  \n",
       "1       人好多，到处都要排队，还好有快速通行证，省不少时间，入园很方便，刷身份证取票，挺方便的。  \n",
       "2      园区非常大，精致，一定要善用FP，一进园区，就要去扫码哦。天气实在热，园区工作人员非常热情  \n",
       "3  天非常热，重点是使用FP，一定要一进园区，先派人去扫码。园区内工作人员非常热情，可惜垃圾满地...  \n",
       "4  虽然去过日本的迪斯尼，但上海迪斯尼还是没令我失望，女儿玩得很开心，人也没想象的多，就是票价有点小贵  \n",
       "5  新景象，气派，适合十岁左右儿童游玩！娱乐项目很多，小孩子们玩得开心，现在八月份太热了。上海游...  \n",
       "6   好玩，大人小孩都喜欢，就是人太多，排队队伍好长，等待的时间占了太多的时间，估计是刚开放的原因.。  \n",
       "7  天气热，人又多。项目排队时间太长，关键是去玩了项目出来，放在统一停放点的租的童车都被偷了，不...  \n",
       "8  人实在是太多了，排队久不说，花钱租的童车还被偷，不得不说管理还跟不上，放童车的地方没人看管，...  \n",
       "9    人太多了，到处排队，一天只玩了两个项目，人超多，又热，平均一个项目排队3个半小时！不会再去了！  "
      ]
     },
     "execution_count": 46,
     "metadata": {},
     "output_type": "execute_result"
    }
   ],
   "source": [
    "# 检查前10行数据\n",
    "sms.head(10)"
   ]
  },
  {
   "cell_type": "code",
   "execution_count": 47,
   "metadata": {
    "collapsed": false
   },
   "outputs": [
    {
     "data": {
      "text/plain": [
       "1     2951\n",
       "2     2482\n",
       "8       88\n",
       "32      24\n",
       "Name: visitortype, dtype: int64"
      ]
     },
     "execution_count": 47,
     "metadata": {},
     "output_type": "execute_result"
    }
   ],
   "source": [
    "# 检查点评的客户类型\n",
    "sms.visitortype.value_counts()\n",
    "# 1：成人 2：儿童 8：老人 32：亲子家庭"
   ]
  },
  {
   "cell_type": "code",
   "execution_count": 48,
   "metadata": {
    "collapsed": false
   },
   "outputs": [],
   "source": [
    "# 给点评打上亲子标签，1：儿童、亲子家庭：亲子票。0：成人、老人：非亲子票\n",
    "sms['visitortype_score'] = sms.visitortype.map({2:1, 32:1, 1:0, 8:0})"
   ]
  },
  {
   "cell_type": "code",
   "execution_count": 49,
   "metadata": {
    "collapsed": false,
    "scrolled": true
   },
   "outputs": [
    {
     "data": {
      "text/html": [
       "<div>\n",
       "<table border=\"1\" class=\"dataframe\">\n",
       "  <thead>\n",
       "    <tr style=\"text-align: right;\">\n",
       "      <th></th>\n",
       "      <th>﻿uid</th>\n",
       "      <th>orderid</th>\n",
       "      <th>visitortype</th>\n",
       "      <th>commenttitle</th>\n",
       "      <th>commentcontent</th>\n",
       "      <th>visitortype_score</th>\n",
       "    </tr>\n",
       "  </thead>\n",
       "  <tbody>\n",
       "    <tr>\n",
       "      <th>0</th>\n",
       "      <td>02191093</td>\n",
       "      <td>2178959382</td>\n",
       "      <td>1</td>\n",
       "      <td>意犹未尽</td>\n",
       "      <td>一天到晚玩不完，人太多，选择性玩几个项目，如果还有机会再去一次，把没有玩过的继续玩。最好有两...</td>\n",
       "      <td>0</td>\n",
       "    </tr>\n",
       "    <tr>\n",
       "      <th>1</th>\n",
       "      <td>05311667</td>\n",
       "      <td>2176235712</td>\n",
       "      <td>2</td>\n",
       "      <td>不错的体验</td>\n",
       "      <td>人好多，到处都要排队，还好有快速通行证，省不少时间，入园很方便，刷身份证取票，挺方便的。</td>\n",
       "      <td>1</td>\n",
       "    </tr>\n",
       "    <tr>\n",
       "      <th>2</th>\n",
       "      <td>08837590</td>\n",
       "      <td>2182049047</td>\n",
       "      <td>1</td>\n",
       "      <td>非常棒</td>\n",
       "      <td>园区非常大，精致，一定要善用FP，一进园区，就要去扫码哦。天气实在热，园区工作人员非常热情</td>\n",
       "      <td>0</td>\n",
       "    </tr>\n",
       "    <tr>\n",
       "      <th>3</th>\n",
       "      <td>08837590</td>\n",
       "      <td>2182050122</td>\n",
       "      <td>8</td>\n",
       "      <td>非常棒</td>\n",
       "      <td>天非常热，重点是使用FP，一定要一进园区，先派人去扫码。园区内工作人员非常热情，可惜垃圾满地...</td>\n",
       "      <td>0</td>\n",
       "    </tr>\n",
       "    <tr>\n",
       "      <th>4</th>\n",
       "      <td>1001383871</td>\n",
       "      <td>2172926019</td>\n",
       "      <td>2</td>\n",
       "      <td>圆公主梦</td>\n",
       "      <td>虽然去过日本的迪斯尼，但上海迪斯尼还是没令我失望，女儿玩得很开心，人也没想象的多，就是票价有点小贵</td>\n",
       "      <td>1</td>\n",
       "    </tr>\n",
       "    <tr>\n",
       "      <th>5</th>\n",
       "      <td>1003238255</td>\n",
       "      <td>2190831207</td>\n",
       "      <td>2</td>\n",
       "      <td>童心未老</td>\n",
       "      <td>新景象，气派，适合十岁左右儿童游玩！娱乐项目很多，小孩子们玩得开心，现在八月份太热了。上海游...</td>\n",
       "      <td>1</td>\n",
       "    </tr>\n",
       "    <tr>\n",
       "      <th>6</th>\n",
       "      <td>1005287188</td>\n",
       "      <td>2177722847</td>\n",
       "      <td>2</td>\n",
       "      <td>上海迪士尼乐园</td>\n",
       "      <td>好玩，大人小孩都喜欢，就是人太多，排队队伍好长，等待的时间占了太多的时间，估计是刚开放的原因.。</td>\n",
       "      <td>1</td>\n",
       "    </tr>\n",
       "    <tr>\n",
       "      <th>7</th>\n",
       "      <td>1006276888</td>\n",
       "      <td>2178800907</td>\n",
       "      <td>1</td>\n",
       "      <td>人太多了，没玩到几个项目</td>\n",
       "      <td>天气热，人又多。项目排队时间太长，关键是去玩了项目出来，放在统一停放点的租的童车都被偷了，不...</td>\n",
       "      <td>0</td>\n",
       "    </tr>\n",
       "    <tr>\n",
       "      <th>8</th>\n",
       "      <td>1006276888</td>\n",
       "      <td>2178801182</td>\n",
       "      <td>2</td>\n",
       "      <td>累，人太多，管理需加强</td>\n",
       "      <td>人实在是太多了，排队久不说，花钱租的童车还被偷，不得不说管理还跟不上，放童车的地方没人看管，...</td>\n",
       "      <td>1</td>\n",
       "    </tr>\n",
       "    <tr>\n",
       "      <th>9</th>\n",
       "      <td>1008272730</td>\n",
       "      <td>2187548102</td>\n",
       "      <td>2</td>\n",
       "      <td>人超多超级多</td>\n",
       "      <td>人太多了，到处排队，一天只玩了两个项目，人超多，又热，平均一个项目排队3个半小时！不会再去了！</td>\n",
       "      <td>1</td>\n",
       "    </tr>\n",
       "  </tbody>\n",
       "</table>\n",
       "</div>"
      ],
      "text/plain": [
       "         ﻿uid     orderid  visitortype  commenttitle  \\\n",
       "0    02191093  2178959382            1          意犹未尽   \n",
       "1    05311667  2176235712            2         不错的体验   \n",
       "2    08837590  2182049047            1           非常棒   \n",
       "3    08837590  2182050122            8           非常棒   \n",
       "4  1001383871  2172926019            2          圆公主梦   \n",
       "5  1003238255  2190831207            2          童心未老   \n",
       "6  1005287188  2177722847            2       上海迪士尼乐园   \n",
       "7  1006276888  2178800907            1  人太多了，没玩到几个项目   \n",
       "8  1006276888  2178801182            2   累，人太多，管理需加强   \n",
       "9  1008272730  2187548102            2        人超多超级多   \n",
       "\n",
       "                                      commentcontent  visitortype_score  \n",
       "0  一天到晚玩不完，人太多，选择性玩几个项目，如果还有机会再去一次，把没有玩过的继续玩。最好有两...                  0  \n",
       "1       人好多，到处都要排队，还好有快速通行证，省不少时间，入园很方便，刷身份证取票，挺方便的。                  1  \n",
       "2      园区非常大，精致，一定要善用FP，一进园区，就要去扫码哦。天气实在热，园区工作人员非常热情                  0  \n",
       "3  天非常热，重点是使用FP，一定要一进园区，先派人去扫码。园区内工作人员非常热情，可惜垃圾满地...                  0  \n",
       "4  虽然去过日本的迪斯尼，但上海迪斯尼还是没令我失望，女儿玩得很开心，人也没想象的多，就是票价有点小贵                  1  \n",
       "5  新景象，气派，适合十岁左右儿童游玩！娱乐项目很多，小孩子们玩得开心，现在八月份太热了。上海游...                  1  \n",
       "6   好玩，大人小孩都喜欢，就是人太多，排队队伍好长，等待的时间占了太多的时间，估计是刚开放的原因.。                  1  \n",
       "7  天气热，人又多。项目排队时间太长，关键是去玩了项目出来，放在统一停放点的租的童车都被偷了，不...                  0  \n",
       "8  人实在是太多了，排队久不说，花钱租的童车还被偷，不得不说管理还跟不上，放童车的地方没人看管，...                  1  \n",
       "9    人太多了，到处排队，一天只玩了两个项目，人超多，又热，平均一个项目排队3个半小时！不会再去了！                  1  "
      ]
     },
     "execution_count": 49,
     "metadata": {},
     "output_type": "execute_result"
    }
   ],
   "source": [
    "# 检查前10行\n",
    "sms.head(10)"
   ]
  },
  {
   "cell_type": "code",
   "execution_count": 50,
   "metadata": {
    "collapsed": true
   },
   "outputs": [],
   "source": [
    "import jieba"
   ]
  },
  {
   "cell_type": "code",
   "execution_count": 51,
   "metadata": {
    "collapsed": false
   },
   "outputs": [
    {
     "data": {
      "text/html": [
       "<div>\n",
       "<table border=\"1\" class=\"dataframe\">\n",
       "  <thead>\n",
       "    <tr style=\"text-align: right;\">\n",
       "      <th></th>\n",
       "      <th>﻿uid</th>\n",
       "      <th>orderid</th>\n",
       "      <th>visitortype</th>\n",
       "      <th>commenttitle</th>\n",
       "      <th>commentcontent</th>\n",
       "      <th>visitortype_score</th>\n",
       "    </tr>\n",
       "  </thead>\n",
       "  <tbody>\n",
       "    <tr>\n",
       "      <th>0</th>\n",
       "      <td>02191093</td>\n",
       "      <td>2178959382</td>\n",
       "      <td>1</td>\n",
       "      <td>意犹未尽</td>\n",
       "      <td>一天到晚玩不完，人太多，选择性玩几个项目，如果还有机会再去一次，把没有玩过的继续玩。最好有两...</td>\n",
       "      <td>0</td>\n",
       "    </tr>\n",
       "  </tbody>\n",
       "</table>\n",
       "</div>"
      ],
      "text/plain": [
       "       ﻿uid     orderid  visitortype commenttitle  \\\n",
       "0  02191093  2178959382            1         意犹未尽   \n",
       "\n",
       "                                      commentcontent  visitortype_score  \n",
       "0  一天到晚玩不完，人太多，选择性玩几个项目，如果还有机会再去一次，把没有玩过的继续玩。最好有两...                  0  "
      ]
     },
     "execution_count": 51,
     "metadata": {},
     "output_type": "execute_result"
    }
   ],
   "source": [
    "sms.head(1)"
   ]
  },
  {
   "cell_type": "code",
   "execution_count": 52,
   "metadata": {
    "collapsed": false
   },
   "outputs": [
    {
     "data": {
      "text/plain": [
       "'\\xe4\\xb8\\x80\\xe5\\xa4\\xa9\\xe5\\x88\\xb0\\xe6\\x99\\x9a\\xe7\\x8e\\xa9\\xe4\\xb8\\x8d\\xe5\\xae\\x8c\\xef\\xbc\\x8c\\xe4\\xba\\xba\\xe5\\xa4\\xaa\\xe5\\xa4\\x9a\\xef\\xbc\\x8c\\xe9\\x80\\x89\\xe6\\x8b\\xa9\\xe6\\x80\\xa7\\xe7\\x8e\\xa9\\xe5\\x87\\xa0\\xe4\\xb8\\xaa\\xe9\\xa1\\xb9\\xe7\\x9b\\xae\\xef\\xbc\\x8c\\xe5\\xa6\\x82\\xe6\\x9e\\x9c\\xe8\\xbf\\x98\\xe6\\x9c\\x89\\xe6\\x9c\\xba\\xe4\\xbc\\x9a\\xe5\\x86\\x8d\\xe5\\x8e\\xbb\\xe4\\xb8\\x80\\xe6\\xac\\xa1\\xef\\xbc\\x8c\\xe6\\x8a\\x8a\\xe6\\xb2\\xa1\\xe6\\x9c\\x89\\xe7\\x8e\\xa9\\xe8\\xbf\\x87\\xe7\\x9a\\x84\\xe7\\xbb\\xa7\\xe7\\xbb\\xad\\xe7\\x8e\\xa9\\xe3\\x80\\x82\\xe6\\x9c\\x80\\xe5\\xa5\\xbd\\xe6\\x9c\\x89\\xe4\\xb8\\xa4\\xe5\\xa4\\xa9\\xe6\\x97\\xb6\\xe9\\x97\\xb4\\xe5\\xb0\\xb1\\xe5\\x8f\\xaf\\xe4\\xbb\\xa5\\xe7\\x8e\\xa9\\xe5\\xb0\\xbd\\xe5\\x85\\xb4\\xe3\\x80\\x82'"
      ]
     },
     "execution_count": 52,
     "metadata": {},
     "output_type": "execute_result"
    }
   ],
   "source": [
    "sms.commentcontent[0]"
   ]
  },
  {
   "cell_type": "code",
   "execution_count": 53,
   "metadata": {
    "collapsed": true
   },
   "outputs": [],
   "source": [
    "sms[\"commentcontent_cut\"] = sms[\"commentcontent\"]"
   ]
  },
  {
   "cell_type": "code",
   "execution_count": null,
   "metadata": {
    "collapsed": false,
    "scrolled": true
   },
   "outputs": [
    {
     "name": "stderr",
     "output_type": "stream",
     "text": [
      "C:\\Anaconda2\\lib\\site-packages\\ipykernel\\__main__.py:4: SettingWithCopyWarning: \n",
      "A value is trying to be set on a copy of a slice from a DataFrame\n",
      "\n",
      "See the caveats in the documentation: http://pandas.pydata.org/pandas-docs/stable/indexing.html#indexing-view-versus-copy\n"
     ]
    }
   ],
   "source": [
    "for idx, v in enumerate(sms.commentcontent):\n",
    "    try:\n",
    "        jieba_cut = jieba.cut(v)\n",
    "        sms[\"commentcontent_cut\"][idx] = ' '.join(jieba_cut)\n",
    "    except:\n",
    "        continue\n",
    "    else:\n",
    "        continue"
   ]
  },
  {
   "cell_type": "code",
   "execution_count": null,
   "metadata": {
    "collapsed": false,
    "scrolled": true
   },
   "outputs": [],
   "source": [
    "sms.head(50)"
   ]
  },
  {
   "cell_type": "code",
   "execution_count": 79,
   "metadata": {
    "collapsed": false
   },
   "outputs": [],
   "source": [
    "sms.to_csv('data/disneycomment_cut.csv', encoding='utf-8')"
   ]
  },
  {
   "cell_type": "code",
   "execution_count": null,
   "metadata": {
    "collapsed": true
   },
   "outputs": [],
   "source": [
    "# 将迪斯尼点评数据加载到pandas数据结构中\n",
    "path = 'data/disneycomment_cut.csv'\n",
    "sms = pd.read_csv(path)"
   ]
  },
  {
   "cell_type": "code",
   "execution_count": null,
   "metadata": {
    "collapsed": false,
    "scrolled": true
   },
   "outputs": [],
   "source": [
    "jieba_cut = jieba.cut('好玩，大人小孩都喜欢，就是人太多，排队队伍好长，等待的时间占了太多的时间，估计是刚开放的原因.。') \n",
    "u' '.join(jieba_cut)"
   ]
  },
  {
   "cell_type": "code",
   "execution_count": 135,
   "metadata": {
    "collapsed": true
   },
   "outputs": [],
   "source": [
    "import nltk"
   ]
  },
  {
   "cell_type": "code",
   "execution_count": null,
   "metadata": {
    "collapsed": false
   },
   "outputs": [],
   "source": [
    "tmp_line_decode = '好玩，大人小孩都喜欢，就是人太多，排队队伍好长，等待的时间占了太多的时间，估计是刚开放的原因.。'\n",
    "jieba_cut = jieba.cut(tmp_line_decode)\n",
    "ans = ' '.join(jieba_cut)\n",
    "print(tmp_line_decode)"
   ]
  },
  {
   "cell_type": "code",
   "execution_count": null,
   "metadata": {
    "collapsed": false
   },
   "outputs": [],
   "source": [
    "# 以点评内容为X，是否亲子点评的分类号为y\n",
    "X = sms.commentcontent_cut\n",
    "y = sms.visitortype_score\n",
    "print(X.shape)\n",
    "print(y.shape)"
   ]
  },
  {
   "cell_type": "code",
   "execution_count": null,
   "metadata": {
    "collapsed": false,
    "scrolled": true
   },
   "outputs": [],
   "source": [
    "# 将X和y分拆到训练数据集和测试数据集中去\n",
    "from sklearn.cross_validation import train_test_split\n",
    "X_train, X_test, y_train, y_test = train_test_split(X, y, random_state=1)\n",
    "print(X_train.shape)\n",
    "print(X_test.shape)\n",
    "print(y_train.shape)\n",
    "print(y_test.shape)"
   ]
  },
  {
   "cell_type": "code",
   "execution_count": null,
   "metadata": {
    "collapsed": false
   },
   "outputs": [],
   "source": [
    "# 加载词频向量器 (使用默认参数)\n",
    "from sklearn.feature_extraction.text import CountVectorizer\n",
    "vect = CountVectorizer()"
   ]
  },
  {
   "cell_type": "code",
   "execution_count": null,
   "metadata": {
    "collapsed": true
   },
   "outputs": [],
   "source": [
    "# 将点评内容转化为词频向量\n",
    "vect.fit(X_train)\n",
    "X_train_dtm = vect.transform(X_train)"
   ]
  },
  {
   "cell_type": "code",
   "execution_count": null,
   "metadata": {
    "collapsed": true
   },
   "outputs": [],
   "source": [
    "# 上面2部可以合为下面一步来执行\n",
    "X_train_dtm = vect.fit_transform(X_train)"
   ]
  },
  {
   "cell_type": "code",
   "execution_count": null,
   "metadata": {
    "collapsed": false
   },
   "outputs": [],
   "source": [
    "# 检查词频向量矩阵\n",
    "X_train_dtm"
   ]
  },
  {
   "cell_type": "code",
   "execution_count": null,
   "metadata": {
    "collapsed": false
   },
   "outputs": [],
   "source": [
    "# 将测试集转化为词频向量矩阵\n",
    "X_test_dtm = vect.transform(X_test)\n",
    "X_test_dtm"
   ]
  },
  {
   "cell_type": "code",
   "execution_count": 87,
   "metadata": {
    "collapsed": true
   },
   "outputs": [],
   "source": [
    "# 加载并初始化多项式朴素贝叶斯模型\n",
    "from sklearn.naive_bayes import MultinomialNB\n",
    "nb = MultinomialNB()"
   ]
  },
  {
   "cell_type": "code",
   "execution_count": 88,
   "metadata": {
    "collapsed": false
   },
   "outputs": [
    {
     "name": "stdout",
     "output_type": "stream",
     "text": [
      "Wall time: 3 ms\n"
     ]
    },
    {
     "data": {
      "text/plain": [
       "MultinomialNB(alpha=1.0, class_prior=None, fit_prior=True)"
      ]
     },
     "execution_count": 88,
     "metadata": {},
     "output_type": "execute_result"
    }
   ],
   "source": [
    "# 使用词频向量训练模型 (记录计算时间)\n",
    "%time nb.fit(X_train_dtm, y_train)"
   ]
  },
  {
   "cell_type": "code",
   "execution_count": 89,
   "metadata": {
    "collapsed": true
   },
   "outputs": [],
   "source": [
    "# 用训练出来的模型预测测试集点评的分类\n",
    "y_pred_class = nb.predict(X_test_dtm)"
   ]
  },
  {
   "cell_type": "code",
   "execution_count": 90,
   "metadata": {
    "collapsed": false
   },
   "outputs": [
    {
     "data": {
      "text/plain": [
       "0.7101658255227109"
      ]
     },
     "execution_count": 90,
     "metadata": {},
     "output_type": "execute_result"
    }
   ],
   "source": [
    "# 计算模型的分类精度\n",
    "from sklearn import metrics\n",
    "metrics.accuracy_score(y_test, y_pred_class)"
   ]
  },
  {
   "cell_type": "code",
   "execution_count": 91,
   "metadata": {
    "collapsed": false
   },
   "outputs": [
    {
     "data": {
      "text/plain": [
       "9924"
      ]
     },
     "execution_count": 91,
     "metadata": {},
     "output_type": "execute_result"
    }
   ],
   "source": [
    "# 保存训练集产生的词典\n",
    "X_train_tokens = vect.get_feature_names()\n",
    "len(X_train_tokens)"
   ]
  },
  {
   "cell_type": "code",
   "execution_count": 92,
   "metadata": {
    "collapsed": false,
    "scrolled": true
   },
   "outputs": [
    {
     "name": "stdout",
     "output_type": "stream",
     "text": [
      "[u'00', u'000000000000000000000000000000000000000', u'07', u'0810', u'0k', u'10', u'100', u'1000', u'104', u'105', u'11', u'110', u'11111111111', u'11111111111111111111111', u'111111111111111111111111111111111111111111111111111111111111111111111', u'11111111111111111111111111111111111111111111111111111111111111111111111111111111111111111111111111111111111', u'115', u'12', u'120', u'122', u'122cm', u'123456123456123456123456123456123456123456123456789123456789123456789123456789', u'1234567800', u'1234567890087531135689900000', u'12345678901234455677890112345678901235678901246799001233467890002345', u'12345788876554456754356777665555577777777', u'125', u'129', u'13', u'130', u'1300', u'13454348446484349434643464484364', u'135', u'13953452690', u'14', u'140', u'1497', u'15', u'150', u'1500', u'1581518181825', u'16', u'160', u'163', u'165', u'1660', u'17', u'1700', u'176', u'18']\n"
     ]
    }
   ],
   "source": [
    "# 检查前50个词\n",
    "print(X_train_tokens[0:50])"
   ]
  },
  {
   "cell_type": "code",
   "execution_count": 93,
   "metadata": {
    "collapsed": false
   },
   "outputs": [
    {
     "name": "stdout",
     "output_type": "stream",
     "text": [
      "[u'\\u9ad8\\u8ddf\\u978b', u'\\u9ad8\\u8fbe', u'\\u9ad8\\u901f', u'\\u9ad8\\u914d', u'\\u9ad8\\u97f3', u'\\u9ad8\\u98de', u'\\u9ad8\\u9ad8\\u5174\\u5174', u'\\u9ad8\\u9ad8\\u5728\\u4e0a', u'\\u9b3c\\u9b3c\\u795f\\u795f', u'\\u9b45\\u529b', u'\\u9b54\\u56fe', u'\\u9b54\\u5e7b', u'\\u9c7f\\u9c7c', u'\\u9c9c\\u8089', u'\\u9e21\\u6392', u'\\u9e21\\u76ae\\u7599\\u7629', u'\\u9e21\\u808b', u'\\u9e21\\u817f', u'\\u9e21\\u817f\\u996d', u'\\u9e21\\u86cb', u'\\u9ea6\\u5f53\\u52b3', u'\\u9ebb\\u70e6', u'\\u9ebb\\u96c0', u'\\u9ebb\\u9ebb', u'\\u9ec4\\u725b', u'\\u9ec4\\u725b\\u515a', u'\\u9ec4\\u8272', u'\\u9ec4\\u91d1\\u5468', u'\\u9ecf\\u7cca', u'\\u9ed1\\u4eba', u'\\u9ed1\\u591c', u'\\u9ed1\\u5fc3', u'\\u9ed1\\u6697', u'\\u9ed1\\u6912', u'\\u9ed1\\u6f06\\u6f06', u'\\u9ed1\\u793e\\u4f1a', u'\\u9ed1\\u8138', u'\\u9ed1\\u8272', u'\\u9ed1\\u9ed1\\u7684', u'\\u9ed8\\u8ba4', u'\\u9edb\\u897f', u'\\u9edb\\u897f\\u4f1a', u'\\u9ede\\u5404\\u4e00\\u5834', u'\\u9ede\\u548c', u'\\u9ede\\u8a55', u'\\u9f50\\u5168', u'\\u9f50\\u5237\\u5237', u'\\u9f7f\\u8f6e', u'\\u9f99\\u5377\\u98ce', u'\\u9f99\\u7684\\u4f20\\u4eba']\n"
     ]
    }
   ],
   "source": [
    "# 检查最后50各词\n",
    "print(X_train_tokens[-50:])"
   ]
  },
  {
   "cell_type": "code",
   "execution_count": 34,
   "metadata": {
    "collapsed": false
   },
   "outputs": [
    {
     "data": {
      "text/plain": [
       "array([[ 12.,   1.,   1., ...,   0.,   1.,   0.],\n",
       "       [ 19.,   0.,   5., ...,   1.,   0.,   1.]])"
      ]
     },
     "execution_count": 34,
     "metadata": {},
     "output_type": "execute_result"
    }
   ],
   "source": [
    "# 统计每个词在各种分类的点评中出现的次数\n",
    "nb.feature_count_"
   ]
  },
  {
   "cell_type": "code",
   "execution_count": 35,
   "metadata": {
    "collapsed": false
   },
   "outputs": [
    {
     "data": {
      "text/plain": [
       "(2L, 9924L)"
      ]
     },
     "execution_count": 35,
     "metadata": {},
     "output_type": "execute_result"
    }
   ],
   "source": [
    "# 行表示类型2类, 列表示词汇数量\n",
    "nb.feature_count_.shape"
   ]
  },
  {
   "cell_type": "code",
   "execution_count": 36,
   "metadata": {
    "collapsed": false
   },
   "outputs": [
    {
     "data": {
      "text/plain": [
       "array([ 12.,   1.,   1., ...,   0.,   1.,   0.])"
      ]
     },
     "execution_count": 36,
     "metadata": {},
     "output_type": "execute_result"
    }
   ],
   "source": [
    "# 非亲子点评中，词典中的每个词出现的次数\n",
    "nochild_token_count = nb.feature_count_[0, :]\n",
    "nochild_token_count"
   ]
  },
  {
   "cell_type": "code",
   "execution_count": 37,
   "metadata": {
    "collapsed": false
   },
   "outputs": [
    {
     "data": {
      "text/plain": [
       "array([ 19.,   0.,   5., ...,   1.,   0.,   1.])"
      ]
     },
     "execution_count": 37,
     "metadata": {},
     "output_type": "execute_result"
    }
   ],
   "source": [
    "# 亲子点评中，词典中的每个词出现的次数\n",
    "child_token_count = nb.feature_count_[1, :]\n",
    "child_token_count"
   ]
  },
  {
   "cell_type": "code",
   "execution_count": 38,
   "metadata": {
    "collapsed": false
   },
   "outputs": [
    {
     "data": {
      "text/html": [
       "<div>\n",
       "<table border=\"1\" class=\"dataframe\">\n",
       "  <thead>\n",
       "    <tr style=\"text-align: right;\">\n",
       "      <th></th>\n",
       "      <th>child</th>\n",
       "      <th>nochild</th>\n",
       "    </tr>\n",
       "    <tr>\n",
       "      <th>token</th>\n",
       "      <th></th>\n",
       "      <th></th>\n",
       "    </tr>\n",
       "  </thead>\n",
       "  <tbody>\n",
       "    <tr>\n",
       "      <th>00</th>\n",
       "      <td>19.0</td>\n",
       "      <td>12.0</td>\n",
       "    </tr>\n",
       "    <tr>\n",
       "      <th>000000000000000000000000000000000000000</th>\n",
       "      <td>0.0</td>\n",
       "      <td>1.0</td>\n",
       "    </tr>\n",
       "    <tr>\n",
       "      <th>07</th>\n",
       "      <td>5.0</td>\n",
       "      <td>1.0</td>\n",
       "    </tr>\n",
       "    <tr>\n",
       "      <th>0810</th>\n",
       "      <td>0.0</td>\n",
       "      <td>1.0</td>\n",
       "    </tr>\n",
       "    <tr>\n",
       "      <th>0k</th>\n",
       "      <td>0.0</td>\n",
       "      <td>1.0</td>\n",
       "    </tr>\n",
       "    <tr>\n",
       "      <th>10</th>\n",
       "      <td>110.0</td>\n",
       "      <td>52.0</td>\n",
       "    </tr>\n",
       "    <tr>\n",
       "      <th>100</th>\n",
       "      <td>22.0</td>\n",
       "      <td>20.0</td>\n",
       "    </tr>\n",
       "    <tr>\n",
       "      <th>1000</th>\n",
       "      <td>2.0</td>\n",
       "      <td>2.0</td>\n",
       "    </tr>\n",
       "    <tr>\n",
       "      <th>104</th>\n",
       "      <td>1.0</td>\n",
       "      <td>0.0</td>\n",
       "    </tr>\n",
       "    <tr>\n",
       "      <th>105</th>\n",
       "      <td>1.0</td>\n",
       "      <td>1.0</td>\n",
       "    </tr>\n",
       "    <tr>\n",
       "      <th>11</th>\n",
       "      <td>25.0</td>\n",
       "      <td>27.0</td>\n",
       "    </tr>\n",
       "    <tr>\n",
       "      <th>110</th>\n",
       "      <td>3.0</td>\n",
       "      <td>0.0</td>\n",
       "    </tr>\n",
       "    <tr>\n",
       "      <th>11111111111</th>\n",
       "      <td>0.0</td>\n",
       "      <td>1.0</td>\n",
       "    </tr>\n",
       "    <tr>\n",
       "      <th>11111111111111111111111</th>\n",
       "      <td>1.0</td>\n",
       "      <td>0.0</td>\n",
       "    </tr>\n",
       "    <tr>\n",
       "      <th>111111111111111111111111111111111111111111111111111111111111111111111</th>\n",
       "      <td>0.0</td>\n",
       "      <td>1.0</td>\n",
       "    </tr>\n",
       "    <tr>\n",
       "      <th>11111111111111111111111111111111111111111111111111111111111111111111111111111111111111111111111111111111111</th>\n",
       "      <td>0.0</td>\n",
       "      <td>1.0</td>\n",
       "    </tr>\n",
       "    <tr>\n",
       "      <th>115</th>\n",
       "      <td>1.0</td>\n",
       "      <td>0.0</td>\n",
       "    </tr>\n",
       "    <tr>\n",
       "      <th>12</th>\n",
       "      <td>23.0</td>\n",
       "      <td>13.0</td>\n",
       "    </tr>\n",
       "    <tr>\n",
       "      <th>120</th>\n",
       "      <td>4.0</td>\n",
       "      <td>4.0</td>\n",
       "    </tr>\n",
       "    <tr>\n",
       "      <th>122</th>\n",
       "      <td>1.0</td>\n",
       "      <td>1.0</td>\n",
       "    </tr>\n",
       "  </tbody>\n",
       "</table>\n",
       "</div>"
      ],
      "text/plain": [
       "                                                    child  nochild\n",
       "token                                                             \n",
       "00                                                   19.0     12.0\n",
       "000000000000000000000000000000000000000               0.0      1.0\n",
       "07                                                    5.0      1.0\n",
       "0810                                                  0.0      1.0\n",
       "0k                                                    0.0      1.0\n",
       "10                                                  110.0     52.0\n",
       "100                                                  22.0     20.0\n",
       "1000                                                  2.0      2.0\n",
       "104                                                   1.0      0.0\n",
       "105                                                   1.0      1.0\n",
       "11                                                   25.0     27.0\n",
       "110                                                   3.0      0.0\n",
       "11111111111                                           0.0      1.0\n",
       "11111111111111111111111                               1.0      0.0\n",
       "11111111111111111111111111111111111111111111111...    0.0      1.0\n",
       "11111111111111111111111111111111111111111111111...    0.0      1.0\n",
       "115                                                   1.0      0.0\n",
       "12                                                   23.0     13.0\n",
       "120                                                   4.0      4.0\n",
       "122                                                   1.0      1.0"
      ]
     },
     "execution_count": 38,
     "metadata": {},
     "output_type": "execute_result"
    }
   ],
   "source": [
    "# 创建一个词汇数组（3列：词汇名称、在亲子点评中出现的次数、在非亲子点评中出现的次数）\n",
    "tokens = pd.DataFrame({'token':X_train_tokens, 'nochild':nochild_token_count, 'child':child_token_count}).set_index('token')\n",
    "tokens.head(20)"
   ]
  },
  {
   "cell_type": "code",
   "execution_count": 39,
   "metadata": {
    "collapsed": false,
    "scrolled": true
   },
   "outputs": [
    {
     "data": {
      "text/html": [
       "<div>\n",
       "<table border=\"1\" class=\"dataframe\">\n",
       "  <thead>\n",
       "    <tr style=\"text-align: right;\">\n",
       "      <th></th>\n",
       "      <th>child</th>\n",
       "      <th>nochild</th>\n",
       "    </tr>\n",
       "    <tr>\n",
       "      <th>token</th>\n",
       "      <th></th>\n",
       "      <th></th>\n",
       "    </tr>\n",
       "  </thead>\n",
       "  <tbody>\n",
       "    <tr>\n",
       "      <th>加强</th>\n",
       "      <td>6.0</td>\n",
       "      <td>11.0</td>\n",
       "    </tr>\n",
       "    <tr>\n",
       "      <th>迪粉们</th>\n",
       "      <td>1.0</td>\n",
       "      <td>1.0</td>\n",
       "    </tr>\n",
       "    <tr>\n",
       "      <th>更少</th>\n",
       "      <td>1.0</td>\n",
       "      <td>0.0</td>\n",
       "    </tr>\n",
       "    <tr>\n",
       "      <th>热水</th>\n",
       "      <td>3.0</td>\n",
       "      <td>1.0</td>\n",
       "    </tr>\n",
       "    <tr>\n",
       "      <th>办理</th>\n",
       "      <td>4.0</td>\n",
       "      <td>1.0</td>\n",
       "    </tr>\n",
       "  </tbody>\n",
       "</table>\n",
       "</div>"
      ],
      "text/plain": [
       "       child  nochild\n",
       "token                \n",
       "加强       6.0     11.0\n",
       "迪粉们      1.0      1.0\n",
       "更少       1.0      0.0\n",
       "热水       3.0      1.0\n",
       "办理       4.0      1.0"
      ]
     },
     "execution_count": 39,
     "metadata": {},
     "output_type": "execute_result"
    }
   ],
   "source": [
    "# 随机检查5个词\n",
    "tokens.sample(5, random_state=6)"
   ]
  },
  {
   "cell_type": "code",
   "execution_count": 40,
   "metadata": {
    "collapsed": false
   },
   "outputs": [
    {
     "data": {
      "text/plain": [
       "array([ 2272.,  1886.])"
      ]
     },
     "execution_count": 40,
     "metadata": {},
     "output_type": "execute_result"
    }
   ],
   "source": [
    "# 每种类别的点评出现的次数\n",
    "nb.class_count_"
   ]
  },
  {
   "cell_type": "code",
   "execution_count": 41,
   "metadata": {
    "collapsed": false
   },
   "outputs": [
    {
     "data": {
      "text/html": [
       "<div>\n",
       "<table border=\"1\" class=\"dataframe\">\n",
       "  <thead>\n",
       "    <tr style=\"text-align: right;\">\n",
       "      <th></th>\n",
       "      <th>child</th>\n",
       "      <th>nochild</th>\n",
       "    </tr>\n",
       "    <tr>\n",
       "      <th>token</th>\n",
       "      <th></th>\n",
       "      <th></th>\n",
       "    </tr>\n",
       "  </thead>\n",
       "  <tbody>\n",
       "    <tr>\n",
       "      <th>加强</th>\n",
       "      <td>7.0</td>\n",
       "      <td>12.0</td>\n",
       "    </tr>\n",
       "    <tr>\n",
       "      <th>迪粉们</th>\n",
       "      <td>2.0</td>\n",
       "      <td>2.0</td>\n",
       "    </tr>\n",
       "    <tr>\n",
       "      <th>更少</th>\n",
       "      <td>2.0</td>\n",
       "      <td>1.0</td>\n",
       "    </tr>\n",
       "    <tr>\n",
       "      <th>热水</th>\n",
       "      <td>4.0</td>\n",
       "      <td>2.0</td>\n",
       "    </tr>\n",
       "    <tr>\n",
       "      <th>办理</th>\n",
       "      <td>5.0</td>\n",
       "      <td>2.0</td>\n",
       "    </tr>\n",
       "  </tbody>\n",
       "</table>\n",
       "</div>"
      ],
      "text/plain": [
       "       child  nochild\n",
       "token                \n",
       "加强       7.0     12.0\n",
       "迪粉们      2.0      2.0\n",
       "更少       2.0      1.0\n",
       "热水       4.0      2.0\n",
       "办理       5.0      2.0"
      ]
     },
     "execution_count": 41,
     "metadata": {},
     "output_type": "execute_result"
    }
   ],
   "source": [
    "# 给次数加1以避免0成为除数\n",
    "tokens['nochild'] = tokens.nochild + 1\n",
    "tokens['child'] = tokens.child + 1\n",
    "tokens.sample(5, random_state=6)"
   ]
  },
  {
   "cell_type": "code",
   "execution_count": 42,
   "metadata": {
    "collapsed": false,
    "scrolled": true
   },
   "outputs": [
    {
     "data": {
      "text/html": [
       "<div>\n",
       "<table border=\"1\" class=\"dataframe\">\n",
       "  <thead>\n",
       "    <tr style=\"text-align: right;\">\n",
       "      <th></th>\n",
       "      <th>child</th>\n",
       "      <th>nochild</th>\n",
       "    </tr>\n",
       "    <tr>\n",
       "      <th>token</th>\n",
       "      <th></th>\n",
       "      <th></th>\n",
       "    </tr>\n",
       "  </thead>\n",
       "  <tbody>\n",
       "    <tr>\n",
       "      <th>加强</th>\n",
       "      <td>0.003712</td>\n",
       "      <td>0.005282</td>\n",
       "    </tr>\n",
       "    <tr>\n",
       "      <th>迪粉们</th>\n",
       "      <td>0.001060</td>\n",
       "      <td>0.000880</td>\n",
       "    </tr>\n",
       "    <tr>\n",
       "      <th>更少</th>\n",
       "      <td>0.001060</td>\n",
       "      <td>0.000440</td>\n",
       "    </tr>\n",
       "    <tr>\n",
       "      <th>热水</th>\n",
       "      <td>0.002121</td>\n",
       "      <td>0.000880</td>\n",
       "    </tr>\n",
       "    <tr>\n",
       "      <th>办理</th>\n",
       "      <td>0.002651</td>\n",
       "      <td>0.000880</td>\n",
       "    </tr>\n",
       "  </tbody>\n",
       "</table>\n",
       "</div>"
      ],
      "text/plain": [
       "          child   nochild\n",
       "token                    \n",
       "加强     0.003712  0.005282\n",
       "迪粉们    0.001060  0.000880\n",
       "更少     0.001060  0.000440\n",
       "热水     0.002121  0.000880\n",
       "办理     0.002651  0.000880"
      ]
     },
     "execution_count": 42,
     "metadata": {},
     "output_type": "execute_result"
    }
   ],
   "source": [
    "# 将词汇关联的亲子类型或非亲子类型的点评的次数转化为频率\n",
    "tokens['nochild'] = tokens.nochild / nb.class_count_[0]\n",
    "tokens['child'] = tokens.child / nb.class_count_[1]\n",
    "tokens.sample(5, random_state=6)"
   ]
  },
  {
   "cell_type": "code",
   "execution_count": 43,
   "metadata": {
    "collapsed": false,
    "scrolled": true
   },
   "outputs": [
    {
     "data": {
      "text/html": [
       "<div>\n",
       "<table border=\"1\" class=\"dataframe\">\n",
       "  <thead>\n",
       "    <tr style=\"text-align: right;\">\n",
       "      <th></th>\n",
       "      <th>child</th>\n",
       "      <th>nochild</th>\n",
       "      <th>child_ratio</th>\n",
       "    </tr>\n",
       "    <tr>\n",
       "      <th>token</th>\n",
       "      <th></th>\n",
       "      <th></th>\n",
       "      <th></th>\n",
       "    </tr>\n",
       "  </thead>\n",
       "  <tbody>\n",
       "    <tr>\n",
       "      <th>加强</th>\n",
       "      <td>0.003712</td>\n",
       "      <td>0.005282</td>\n",
       "      <td>0.702722</td>\n",
       "    </tr>\n",
       "    <tr>\n",
       "      <th>迪粉们</th>\n",
       "      <td>0.001060</td>\n",
       "      <td>0.000880</td>\n",
       "      <td>1.204666</td>\n",
       "    </tr>\n",
       "    <tr>\n",
       "      <th>更少</th>\n",
       "      <td>0.001060</td>\n",
       "      <td>0.000440</td>\n",
       "      <td>2.409332</td>\n",
       "    </tr>\n",
       "    <tr>\n",
       "      <th>热水</th>\n",
       "      <td>0.002121</td>\n",
       "      <td>0.000880</td>\n",
       "      <td>2.409332</td>\n",
       "    </tr>\n",
       "    <tr>\n",
       "      <th>办理</th>\n",
       "      <td>0.002651</td>\n",
       "      <td>0.000880</td>\n",
       "      <td>3.011665</td>\n",
       "    </tr>\n",
       "  </tbody>\n",
       "</table>\n",
       "</div>"
      ],
      "text/plain": [
       "          child   nochild  child_ratio\n",
       "token                                 \n",
       "加强     0.003712  0.005282     0.702722\n",
       "迪粉们    0.001060  0.000880     1.204666\n",
       "更少     0.001060  0.000440     2.409332\n",
       "热水     0.002121  0.000880     2.409332\n",
       "办理     0.002651  0.000880     3.011665"
      ]
     },
     "execution_count": 43,
     "metadata": {},
     "output_type": "execute_result"
    }
   ],
   "source": [
    "# 计算每个词汇的亲子度：在亲子点评中出现的频率/在非亲子点评中出现的频率\n",
    "tokens['child_ratio'] = tokens.child / tokens.nochild\n",
    "tokens.sample(5, random_state=6)"
   ]
  },
  {
   "cell_type": "code",
   "execution_count": 94,
   "metadata": {
    "collapsed": false,
    "scrolled": false
   },
   "outputs": [
    {
     "data": {
      "text/html": [
       "<div>\n",
       "<table border=\"1\" class=\"dataframe\">\n",
       "  <thead>\n",
       "    <tr style=\"text-align: right;\">\n",
       "      <th></th>\n",
       "      <th>child</th>\n",
       "      <th>nochild</th>\n",
       "      <th>child_ratio</th>\n",
       "    </tr>\n",
       "    <tr>\n",
       "      <th>token</th>\n",
       "      <th></th>\n",
       "      <th></th>\n",
       "      <th></th>\n",
       "    </tr>\n",
       "  </thead>\n",
       "  <tbody>\n",
       "    <tr>\n",
       "      <th>孩子</th>\n",
       "      <td>0.376458</td>\n",
       "      <td>0.000440</td>\n",
       "      <td>855.312831</td>\n",
       "    </tr>\n",
       "    <tr>\n",
       "      <th>小孩</th>\n",
       "      <td>0.109756</td>\n",
       "      <td>0.000440</td>\n",
       "      <td>249.365854</td>\n",
       "    </tr>\n",
       "    <tr>\n",
       "      <th>小朋友</th>\n",
       "      <td>0.098621</td>\n",
       "      <td>0.000440</td>\n",
       "      <td>224.067869</td>\n",
       "    </tr>\n",
       "    <tr>\n",
       "      <th>小孩子</th>\n",
       "      <td>0.062036</td>\n",
       "      <td>0.000440</td>\n",
       "      <td>140.945917</td>\n",
       "    </tr>\n",
       "    <tr>\n",
       "      <th>儿子</th>\n",
       "      <td>0.036055</td>\n",
       "      <td>0.000440</td>\n",
       "      <td>81.917285</td>\n",
       "    </tr>\n",
       "    <tr>\n",
       "      <th>儿童</th>\n",
       "      <td>0.034464</td>\n",
       "      <td>0.000440</td>\n",
       "      <td>78.303287</td>\n",
       "    </tr>\n",
       "    <tr>\n",
       "      <th>女儿</th>\n",
       "      <td>0.032344</td>\n",
       "      <td>0.000440</td>\n",
       "      <td>73.484624</td>\n",
       "    </tr>\n",
       "    <tr>\n",
       "      <th>宝宝</th>\n",
       "      <td>0.022800</td>\n",
       "      <td>0.000440</td>\n",
       "      <td>51.800636</td>\n",
       "    </tr>\n",
       "    <tr>\n",
       "      <th>大人</th>\n",
       "      <td>0.076882</td>\n",
       "      <td>0.001761</td>\n",
       "      <td>43.669141</td>\n",
       "    </tr>\n",
       "    <tr>\n",
       "      <th>排排</th>\n",
       "      <td>0.015376</td>\n",
       "      <td>0.000440</td>\n",
       "      <td>34.935313</td>\n",
       "    </tr>\n",
       "    <tr>\n",
       "      <th>家庭</th>\n",
       "      <td>0.015376</td>\n",
       "      <td>0.000440</td>\n",
       "      <td>34.935313</td>\n",
       "    </tr>\n",
       "    <tr>\n",
       "      <th>亲子</th>\n",
       "      <td>0.014846</td>\n",
       "      <td>0.000440</td>\n",
       "      <td>33.730647</td>\n",
       "    </tr>\n",
       "    <tr>\n",
       "      <th>一家人</th>\n",
       "      <td>0.011665</td>\n",
       "      <td>0.000440</td>\n",
       "      <td>26.502651</td>\n",
       "    </tr>\n",
       "    <tr>\n",
       "      <th>家长</th>\n",
       "      <td>0.008484</td>\n",
       "      <td>0.000440</td>\n",
       "      <td>19.274655</td>\n",
       "    </tr>\n",
       "    <tr>\n",
       "      <th>太小</th>\n",
       "      <td>0.015907</td>\n",
       "      <td>0.000880</td>\n",
       "      <td>18.069989</td>\n",
       "    </tr>\n",
       "    <tr>\n",
       "      <th>身高</th>\n",
       "      <td>0.015376</td>\n",
       "      <td>0.000880</td>\n",
       "      <td>17.467656</td>\n",
       "    </tr>\n",
       "    <tr>\n",
       "      <th>四十</th>\n",
       "      <td>0.006363</td>\n",
       "      <td>0.000440</td>\n",
       "      <td>14.455992</td>\n",
       "    </tr>\n",
       "    <tr>\n",
       "      <th>随地</th>\n",
       "      <td>0.005832</td>\n",
       "      <td>0.000440</td>\n",
       "      <td>13.251326</td>\n",
       "    </tr>\n",
       "    <tr>\n",
       "      <th>我家</th>\n",
       "      <td>0.005832</td>\n",
       "      <td>0.000440</td>\n",
       "      <td>13.251326</td>\n",
       "    </tr>\n",
       "    <tr>\n",
       "      <th>看不见</th>\n",
       "      <td>0.005832</td>\n",
       "      <td>0.000440</td>\n",
       "      <td>13.251326</td>\n",
       "    </tr>\n",
       "    <tr>\n",
       "      <th>这时</th>\n",
       "      <td>0.005832</td>\n",
       "      <td>0.000440</td>\n",
       "      <td>13.251326</td>\n",
       "    </tr>\n",
       "    <tr>\n",
       "      <th>租个</th>\n",
       "      <td>0.005302</td>\n",
       "      <td>0.000440</td>\n",
       "      <td>12.046660</td>\n",
       "    </tr>\n",
       "    <tr>\n",
       "      <th>指定</th>\n",
       "      <td>0.005302</td>\n",
       "      <td>0.000440</td>\n",
       "      <td>12.046660</td>\n",
       "    </tr>\n",
       "    <tr>\n",
       "      <th>高兴</th>\n",
       "      <td>0.025451</td>\n",
       "      <td>0.002201</td>\n",
       "      <td>11.564793</td>\n",
       "    </tr>\n",
       "    <tr>\n",
       "      <th>便于</th>\n",
       "      <td>0.004772</td>\n",
       "      <td>0.000440</td>\n",
       "      <td>10.841994</td>\n",
       "    </tr>\n",
       "    <tr>\n",
       "      <th>天价</th>\n",
       "      <td>0.004772</td>\n",
       "      <td>0.000440</td>\n",
       "      <td>10.841994</td>\n",
       "    </tr>\n",
       "    <tr>\n",
       "      <th>长大</th>\n",
       "      <td>0.004772</td>\n",
       "      <td>0.000440</td>\n",
       "      <td>10.841994</td>\n",
       "    </tr>\n",
       "    <tr>\n",
       "      <th>凉鞋</th>\n",
       "      <td>0.009014</td>\n",
       "      <td>0.000880</td>\n",
       "      <td>10.239661</td>\n",
       "    </tr>\n",
       "    <tr>\n",
       "      <th>小女孩</th>\n",
       "      <td>0.004242</td>\n",
       "      <td>0.000440</td>\n",
       "      <td>9.637328</td>\n",
       "    </tr>\n",
       "    <tr>\n",
       "      <th>推车</th>\n",
       "      <td>0.012725</td>\n",
       "      <td>0.001320</td>\n",
       "      <td>9.637328</td>\n",
       "    </tr>\n",
       "    <tr>\n",
       "      <th>儿童票</th>\n",
       "      <td>0.003712</td>\n",
       "      <td>0.000440</td>\n",
       "      <td>8.432662</td>\n",
       "    </tr>\n",
       "    <tr>\n",
       "      <th>快通</th>\n",
       "      <td>0.007423</td>\n",
       "      <td>0.000880</td>\n",
       "      <td>8.432662</td>\n",
       "    </tr>\n",
       "    <tr>\n",
       "      <th>人带</th>\n",
       "      <td>0.003712</td>\n",
       "      <td>0.000440</td>\n",
       "      <td>8.432662</td>\n",
       "    </tr>\n",
       "    <tr>\n",
       "      <th>万多</th>\n",
       "      <td>0.003712</td>\n",
       "      <td>0.000440</td>\n",
       "      <td>8.432662</td>\n",
       "    </tr>\n",
       "    <tr>\n",
       "      <th>女孩子</th>\n",
       "      <td>0.003712</td>\n",
       "      <td>0.000440</td>\n",
       "      <td>8.432662</td>\n",
       "    </tr>\n",
       "    <tr>\n",
       "      <th>关注</th>\n",
       "      <td>0.003712</td>\n",
       "      <td>0.000440</td>\n",
       "      <td>8.432662</td>\n",
       "    </tr>\n",
       "    <tr>\n",
       "      <th>好日子</th>\n",
       "      <td>0.003712</td>\n",
       "      <td>0.000440</td>\n",
       "      <td>8.432662</td>\n",
       "    </tr>\n",
       "    <tr>\n",
       "      <th>看好</th>\n",
       "      <td>0.006893</td>\n",
       "      <td>0.000880</td>\n",
       "      <td>7.830329</td>\n",
       "    </tr>\n",
       "    <tr>\n",
       "      <th>订好</th>\n",
       "      <td>0.006893</td>\n",
       "      <td>0.000880</td>\n",
       "      <td>7.830329</td>\n",
       "    </tr>\n",
       "    <tr>\n",
       "      <th>行李</th>\n",
       "      <td>0.006893</td>\n",
       "      <td>0.000880</td>\n",
       "      <td>7.830329</td>\n",
       "    </tr>\n",
       "    <tr>\n",
       "      <th>童车</th>\n",
       "      <td>0.010074</td>\n",
       "      <td>0.001320</td>\n",
       "      <td>7.629551</td>\n",
       "    </tr>\n",
       "    <tr>\n",
       "      <th>数字</th>\n",
       "      <td>0.009544</td>\n",
       "      <td>0.001320</td>\n",
       "      <td>7.227996</td>\n",
       "    </tr>\n",
       "    <tr>\n",
       "      <th>女王</th>\n",
       "      <td>0.003181</td>\n",
       "      <td>0.000440</td>\n",
       "      <td>7.227996</td>\n",
       "    </tr>\n",
       "    <tr>\n",
       "      <th>不累</th>\n",
       "      <td>0.003181</td>\n",
       "      <td>0.000440</td>\n",
       "      <td>7.227996</td>\n",
       "    </tr>\n",
       "    <tr>\n",
       "      <th>纸巾</th>\n",
       "      <td>0.003181</td>\n",
       "      <td>0.000440</td>\n",
       "      <td>7.227996</td>\n",
       "    </tr>\n",
       "    <tr>\n",
       "      <th>学习</th>\n",
       "      <td>0.003181</td>\n",
       "      <td>0.000440</td>\n",
       "      <td>7.227996</td>\n",
       "    </tr>\n",
       "    <tr>\n",
       "      <th>非常少</th>\n",
       "      <td>0.003181</td>\n",
       "      <td>0.000440</td>\n",
       "      <td>7.227996</td>\n",
       "    </tr>\n",
       "    <tr>\n",
       "      <th>严格</th>\n",
       "      <td>0.003181</td>\n",
       "      <td>0.000440</td>\n",
       "      <td>7.227996</td>\n",
       "    </tr>\n",
       "    <tr>\n",
       "      <th>亲子活动</th>\n",
       "      <td>0.003181</td>\n",
       "      <td>0.000440</td>\n",
       "      <td>7.227996</td>\n",
       "    </tr>\n",
       "    <tr>\n",
       "      <th>不耐烦</th>\n",
       "      <td>0.003181</td>\n",
       "      <td>0.000440</td>\n",
       "      <td>7.227996</td>\n",
       "    </tr>\n",
       "  </tbody>\n",
       "</table>\n",
       "</div>"
      ],
      "text/plain": [
       "          child   nochild  child_ratio\n",
       "token                                 \n",
       "孩子     0.376458  0.000440   855.312831\n",
       "小孩     0.109756  0.000440   249.365854\n",
       "小朋友    0.098621  0.000440   224.067869\n",
       "小孩子    0.062036  0.000440   140.945917\n",
       "儿子     0.036055  0.000440    81.917285\n",
       "儿童     0.034464  0.000440    78.303287\n",
       "女儿     0.032344  0.000440    73.484624\n",
       "宝宝     0.022800  0.000440    51.800636\n",
       "大人     0.076882  0.001761    43.669141\n",
       "排排     0.015376  0.000440    34.935313\n",
       "家庭     0.015376  0.000440    34.935313\n",
       "亲子     0.014846  0.000440    33.730647\n",
       "一家人    0.011665  0.000440    26.502651\n",
       "家长     0.008484  0.000440    19.274655\n",
       "太小     0.015907  0.000880    18.069989\n",
       "身高     0.015376  0.000880    17.467656\n",
       "四十     0.006363  0.000440    14.455992\n",
       "随地     0.005832  0.000440    13.251326\n",
       "我家     0.005832  0.000440    13.251326\n",
       "看不见    0.005832  0.000440    13.251326\n",
       "这时     0.005832  0.000440    13.251326\n",
       "租个     0.005302  0.000440    12.046660\n",
       "指定     0.005302  0.000440    12.046660\n",
       "高兴     0.025451  0.002201    11.564793\n",
       "便于     0.004772  0.000440    10.841994\n",
       "天价     0.004772  0.000440    10.841994\n",
       "长大     0.004772  0.000440    10.841994\n",
       "凉鞋     0.009014  0.000880    10.239661\n",
       "小女孩    0.004242  0.000440     9.637328\n",
       "推车     0.012725  0.001320     9.637328\n",
       "儿童票    0.003712  0.000440     8.432662\n",
       "快通     0.007423  0.000880     8.432662\n",
       "人带     0.003712  0.000440     8.432662\n",
       "万多     0.003712  0.000440     8.432662\n",
       "女孩子    0.003712  0.000440     8.432662\n",
       "关注     0.003712  0.000440     8.432662\n",
       "好日子    0.003712  0.000440     8.432662\n",
       "看好     0.006893  0.000880     7.830329\n",
       "订好     0.006893  0.000880     7.830329\n",
       "行李     0.006893  0.000880     7.830329\n",
       "童车     0.010074  0.001320     7.629551\n",
       "数字     0.009544  0.001320     7.227996\n",
       "女王     0.003181  0.000440     7.227996\n",
       "不累     0.003181  0.000440     7.227996\n",
       "纸巾     0.003181  0.000440     7.227996\n",
       "学习     0.003181  0.000440     7.227996\n",
       "非常少    0.003181  0.000440     7.227996\n",
       "严格     0.003181  0.000440     7.227996\n",
       "亲子活动   0.003181  0.000440     7.227996\n",
       "不耐烦    0.003181  0.000440     7.227996"
      ]
     },
     "execution_count": 94,
     "metadata": {},
     "output_type": "execute_result"
    }
   ],
   "source": [
    "\n",
    "# 将词汇按亲子度降序排列\n",
    "tokens.sort_values('child_ratio', ascending=False).head(50)"
   ]
  },
  {
   "cell_type": "code",
   "execution_count": 176,
   "metadata": {
    "collapsed": false
   },
   "outputs": [
    {
     "data": {
      "text/plain": [
       "1.702717172330432"
      ]
     },
     "execution_count": 176,
     "metadata": {},
     "output_type": "execute_result"
    }
   ],
   "source": [
    "# 检查给定词汇的亲子度\n",
    "tokens.loc[u'孩子', 'child_ratio']"
   ]
  },
  {
   "cell_type": "code",
   "execution_count": 177,
   "metadata": {
    "collapsed": false
   },
   "outputs": [
    {
     "data": {
      "text/plain": [
       "1.975473187294307"
      ]
     },
     "execution_count": 177,
     "metadata": {},
     "output_type": "execute_result"
    }
   ],
   "source": [
    "# 检查给定词汇的亲子度\n",
    "tokens.loc[u'小朋友', 'child_ratio']"
   ]
  }
 ],
 "metadata": {
  "kernelspec": {
   "display_name": "Python 2",
   "language": "python",
   "name": "python2"
  },
  "language_info": {
   "codemirror_mode": {
    "name": "ipython",
    "version": 2
   },
   "file_extension": ".py",
   "mimetype": "text/x-python",
   "name": "python",
   "nbconvert_exporter": "python",
   "pygments_lexer": "ipython2",
   "version": "2.7.12"
  }
 },
 "nbformat": 4,
 "nbformat_minor": 0
}
